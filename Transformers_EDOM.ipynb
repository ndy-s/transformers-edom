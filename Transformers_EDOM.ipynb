{
  "nbformat": 4,
  "nbformat_minor": 0,
  "metadata": {
    "colab": {
      "provenance": [],
      "gpuType": "T4",
      "authorship_tag": "ABX9TyO8k0TFDV+4Pm1Mt3EPTKgt",
      "include_colab_link": true
    },
    "kernelspec": {
      "name": "python3",
      "display_name": "Python 3"
    },
    "language_info": {
      "name": "python"
    },
    "accelerator": "GPU"
  },
  "cells": [
    {
      "cell_type": "markdown",
      "metadata": {
        "id": "view-in-github",
        "colab_type": "text"
      },
      "source": [
        "<a href=\"https://colab.research.google.com/github/ndy-s/transformers-edom/blob/main/Transformers_EDOM.ipynb\" target=\"_parent\"><img src=\"https://colab.research.google.com/assets/colab-badge.svg\" alt=\"Open In Colab\"/></a>"
      ]
    },
    {
      "cell_type": "code",
      "source": [
        "# Code configuration\n",
        "DATASET_FILE_NAME = 'dataset_edom'\n",
        "FEB_ONLY = False\n",
        "\n",
        "MODEL_NAME = 'gpt2'; # mbert, indobert, roberta, gpt2\n",
        "FREEZE_LAYER = False\n",
        "\n",
        "# Hyperparameter\n",
        "BATCH_SIZE = 16 # 16, 32\n",
        "LEARNING_RATE = 2e-5 # 5e-5, 3e-5, 2e-5\n",
        "EPOCH = 4 # 2, 3, 4"
      ],
      "metadata": {
        "id": "twU7xK23HSkl"
      },
      "execution_count": null,
      "outputs": []
    },
    {
      "cell_type": "code",
      "execution_count": null,
      "metadata": {
        "id": "Xqn4VpOZG9nF"
      },
      "outputs": [],
      "source": [
        "import os\n",
        "from google.colab import files\n",
        "\n",
        "if not os.path.exists(f'./{DATASET_FILE_NAME}.xlsx'):\n",
        "  uploaded = files.upload()"
      ]
    },
    {
      "cell_type": "code",
      "source": [
        "import pandas as pd\n",
        "\n",
        "df = pd.read_excel(f'./{DATASET_FILE_NAME}.xlsx')\n",
        "\n",
        "# Pre-processing excel data\n",
        "df_copy = df.copy()\n",
        "df_copy = df_copy.drop_duplicates(subset='JAWABAN')\n",
        "df_copy = df_copy.dropna(subset=['LABEL'])\n",
        "df_copy = df_copy[df_copy['FAKULTAS'] == 'EKONOMI DAN BISNIS'] if FEB_ONLY else df_copy\n",
        "df_copy.drop(['KONTEKS', 'FAKULTAS'], axis=1, inplace=True)\n",
        "df_copy.head()"
      ],
      "metadata": {
        "colab": {
          "base_uri": "https://localhost:8080/",
          "height": 206
        },
        "id": "-4cpvGAHHrpC",
        "outputId": "452e4187-74b1-4819-c305-4e8a43dc3e1c"
      },
      "execution_count": null,
      "outputs": [
        {
          "output_type": "execute_result",
          "data": {
            "text/plain": [
              "                                             JAWABAN    LABEL\n",
              "0  Selama proses perkuliahan sudah cukup baik, ha...  NEGATIF\n",
              "1  selalu menjadi dosen yang memotivasi mahasiswanya  POSITIF\n",
              "2            tetap jadi dosen yang baik dan seru buk  POSITIF\n",
              "3  Saya sangat merasa senang ketika belajar di ke...  POSITIF\n",
              "4  Saran: Jika tidak masuk pada jam yang telah di...  NEGATIF"
            ],
            "text/html": [
              "\n",
              "  <div id=\"df-5f9960fd-f8d5-4b2e-aedf-cfe6da8831fe\" class=\"colab-df-container\">\n",
              "    <div>\n",
              "<style scoped>\n",
              "    .dataframe tbody tr th:only-of-type {\n",
              "        vertical-align: middle;\n",
              "    }\n",
              "\n",
              "    .dataframe tbody tr th {\n",
              "        vertical-align: top;\n",
              "    }\n",
              "\n",
              "    .dataframe thead th {\n",
              "        text-align: right;\n",
              "    }\n",
              "</style>\n",
              "<table border=\"1\" class=\"dataframe\">\n",
              "  <thead>\n",
              "    <tr style=\"text-align: right;\">\n",
              "      <th></th>\n",
              "      <th>JAWABAN</th>\n",
              "      <th>LABEL</th>\n",
              "    </tr>\n",
              "  </thead>\n",
              "  <tbody>\n",
              "    <tr>\n",
              "      <th>0</th>\n",
              "      <td>Selama proses perkuliahan sudah cukup baik, ha...</td>\n",
              "      <td>NEGATIF</td>\n",
              "    </tr>\n",
              "    <tr>\n",
              "      <th>1</th>\n",
              "      <td>selalu menjadi dosen yang memotivasi mahasiswanya</td>\n",
              "      <td>POSITIF</td>\n",
              "    </tr>\n",
              "    <tr>\n",
              "      <th>2</th>\n",
              "      <td>tetap jadi dosen yang baik dan seru buk</td>\n",
              "      <td>POSITIF</td>\n",
              "    </tr>\n",
              "    <tr>\n",
              "      <th>3</th>\n",
              "      <td>Saya sangat merasa senang ketika belajar di ke...</td>\n",
              "      <td>POSITIF</td>\n",
              "    </tr>\n",
              "    <tr>\n",
              "      <th>4</th>\n",
              "      <td>Saran: Jika tidak masuk pada jam yang telah di...</td>\n",
              "      <td>NEGATIF</td>\n",
              "    </tr>\n",
              "  </tbody>\n",
              "</table>\n",
              "</div>\n",
              "    <div class=\"colab-df-buttons\">\n",
              "\n",
              "  <div class=\"colab-df-container\">\n",
              "    <button class=\"colab-df-convert\" onclick=\"convertToInteractive('df-5f9960fd-f8d5-4b2e-aedf-cfe6da8831fe')\"\n",
              "            title=\"Convert this dataframe to an interactive table.\"\n",
              "            style=\"display:none;\">\n",
              "\n",
              "  <svg xmlns=\"http://www.w3.org/2000/svg\" height=\"24px\" viewBox=\"0 -960 960 960\">\n",
              "    <path d=\"M120-120v-720h720v720H120Zm60-500h600v-160H180v160Zm220 220h160v-160H400v160Zm0 220h160v-160H400v160ZM180-400h160v-160H180v160Zm440 0h160v-160H620v160ZM180-180h160v-160H180v160Zm440 0h160v-160H620v160Z\"/>\n",
              "  </svg>\n",
              "    </button>\n",
              "\n",
              "  <style>\n",
              "    .colab-df-container {\n",
              "      display:flex;\n",
              "      gap: 12px;\n",
              "    }\n",
              "\n",
              "    .colab-df-convert {\n",
              "      background-color: #E8F0FE;\n",
              "      border: none;\n",
              "      border-radius: 50%;\n",
              "      cursor: pointer;\n",
              "      display: none;\n",
              "      fill: #1967D2;\n",
              "      height: 32px;\n",
              "      padding: 0 0 0 0;\n",
              "      width: 32px;\n",
              "    }\n",
              "\n",
              "    .colab-df-convert:hover {\n",
              "      background-color: #E2EBFA;\n",
              "      box-shadow: 0px 1px 2px rgba(60, 64, 67, 0.3), 0px 1px 3px 1px rgba(60, 64, 67, 0.15);\n",
              "      fill: #174EA6;\n",
              "    }\n",
              "\n",
              "    .colab-df-buttons div {\n",
              "      margin-bottom: 4px;\n",
              "    }\n",
              "\n",
              "    [theme=dark] .colab-df-convert {\n",
              "      background-color: #3B4455;\n",
              "      fill: #D2E3FC;\n",
              "    }\n",
              "\n",
              "    [theme=dark] .colab-df-convert:hover {\n",
              "      background-color: #434B5C;\n",
              "      box-shadow: 0px 1px 3px 1px rgba(0, 0, 0, 0.15);\n",
              "      filter: drop-shadow(0px 1px 2px rgba(0, 0, 0, 0.3));\n",
              "      fill: #FFFFFF;\n",
              "    }\n",
              "  </style>\n",
              "\n",
              "    <script>\n",
              "      const buttonEl =\n",
              "        document.querySelector('#df-5f9960fd-f8d5-4b2e-aedf-cfe6da8831fe button.colab-df-convert');\n",
              "      buttonEl.style.display =\n",
              "        google.colab.kernel.accessAllowed ? 'block' : 'none';\n",
              "\n",
              "      async function convertToInteractive(key) {\n",
              "        const element = document.querySelector('#df-5f9960fd-f8d5-4b2e-aedf-cfe6da8831fe');\n",
              "        const dataTable =\n",
              "          await google.colab.kernel.invokeFunction('convertToInteractive',\n",
              "                                                    [key], {});\n",
              "        if (!dataTable) return;\n",
              "\n",
              "        const docLinkHtml = 'Like what you see? Visit the ' +\n",
              "          '<a target=\"_blank\" href=https://colab.research.google.com/notebooks/data_table.ipynb>data table notebook</a>'\n",
              "          + ' to learn more about interactive tables.';\n",
              "        element.innerHTML = '';\n",
              "        dataTable['output_type'] = 'display_data';\n",
              "        await google.colab.output.renderOutput(dataTable, element);\n",
              "        const docLink = document.createElement('div');\n",
              "        docLink.innerHTML = docLinkHtml;\n",
              "        element.appendChild(docLink);\n",
              "      }\n",
              "    </script>\n",
              "  </div>\n",
              "\n",
              "\n",
              "<div id=\"df-47ce873b-aa49-42e9-b346-051e85e86ee1\">\n",
              "  <button class=\"colab-df-quickchart\" onclick=\"quickchart('df-47ce873b-aa49-42e9-b346-051e85e86ee1')\"\n",
              "            title=\"Suggest charts\"\n",
              "            style=\"display:none;\">\n",
              "\n",
              "<svg xmlns=\"http://www.w3.org/2000/svg\" height=\"24px\"viewBox=\"0 0 24 24\"\n",
              "     width=\"24px\">\n",
              "    <g>\n",
              "        <path d=\"M19 3H5c-1.1 0-2 .9-2 2v14c0 1.1.9 2 2 2h14c1.1 0 2-.9 2-2V5c0-1.1-.9-2-2-2zM9 17H7v-7h2v7zm4 0h-2V7h2v10zm4 0h-2v-4h2v4z\"/>\n",
              "    </g>\n",
              "</svg>\n",
              "  </button>\n",
              "\n",
              "<style>\n",
              "  .colab-df-quickchart {\n",
              "      --bg-color: #E8F0FE;\n",
              "      --fill-color: #1967D2;\n",
              "      --hover-bg-color: #E2EBFA;\n",
              "      --hover-fill-color: #174EA6;\n",
              "      --disabled-fill-color: #AAA;\n",
              "      --disabled-bg-color: #DDD;\n",
              "  }\n",
              "\n",
              "  [theme=dark] .colab-df-quickchart {\n",
              "      --bg-color: #3B4455;\n",
              "      --fill-color: #D2E3FC;\n",
              "      --hover-bg-color: #434B5C;\n",
              "      --hover-fill-color: #FFFFFF;\n",
              "      --disabled-bg-color: #3B4455;\n",
              "      --disabled-fill-color: #666;\n",
              "  }\n",
              "\n",
              "  .colab-df-quickchart {\n",
              "    background-color: var(--bg-color);\n",
              "    border: none;\n",
              "    border-radius: 50%;\n",
              "    cursor: pointer;\n",
              "    display: none;\n",
              "    fill: var(--fill-color);\n",
              "    height: 32px;\n",
              "    padding: 0;\n",
              "    width: 32px;\n",
              "  }\n",
              "\n",
              "  .colab-df-quickchart:hover {\n",
              "    background-color: var(--hover-bg-color);\n",
              "    box-shadow: 0 1px 2px rgba(60, 64, 67, 0.3), 0 1px 3px 1px rgba(60, 64, 67, 0.15);\n",
              "    fill: var(--button-hover-fill-color);\n",
              "  }\n",
              "\n",
              "  .colab-df-quickchart-complete:disabled,\n",
              "  .colab-df-quickchart-complete:disabled:hover {\n",
              "    background-color: var(--disabled-bg-color);\n",
              "    fill: var(--disabled-fill-color);\n",
              "    box-shadow: none;\n",
              "  }\n",
              "\n",
              "  .colab-df-spinner {\n",
              "    border: 2px solid var(--fill-color);\n",
              "    border-color: transparent;\n",
              "    border-bottom-color: var(--fill-color);\n",
              "    animation:\n",
              "      spin 1s steps(1) infinite;\n",
              "  }\n",
              "\n",
              "  @keyframes spin {\n",
              "    0% {\n",
              "      border-color: transparent;\n",
              "      border-bottom-color: var(--fill-color);\n",
              "      border-left-color: var(--fill-color);\n",
              "    }\n",
              "    20% {\n",
              "      border-color: transparent;\n",
              "      border-left-color: var(--fill-color);\n",
              "      border-top-color: var(--fill-color);\n",
              "    }\n",
              "    30% {\n",
              "      border-color: transparent;\n",
              "      border-left-color: var(--fill-color);\n",
              "      border-top-color: var(--fill-color);\n",
              "      border-right-color: var(--fill-color);\n",
              "    }\n",
              "    40% {\n",
              "      border-color: transparent;\n",
              "      border-right-color: var(--fill-color);\n",
              "      border-top-color: var(--fill-color);\n",
              "    }\n",
              "    60% {\n",
              "      border-color: transparent;\n",
              "      border-right-color: var(--fill-color);\n",
              "    }\n",
              "    80% {\n",
              "      border-color: transparent;\n",
              "      border-right-color: var(--fill-color);\n",
              "      border-bottom-color: var(--fill-color);\n",
              "    }\n",
              "    90% {\n",
              "      border-color: transparent;\n",
              "      border-bottom-color: var(--fill-color);\n",
              "    }\n",
              "  }\n",
              "</style>\n",
              "\n",
              "  <script>\n",
              "    async function quickchart(key) {\n",
              "      const quickchartButtonEl =\n",
              "        document.querySelector('#' + key + ' button');\n",
              "      quickchartButtonEl.disabled = true;  // To prevent multiple clicks.\n",
              "      quickchartButtonEl.classList.add('colab-df-spinner');\n",
              "      try {\n",
              "        const charts = await google.colab.kernel.invokeFunction(\n",
              "            'suggestCharts', [key], {});\n",
              "      } catch (error) {\n",
              "        console.error('Error during call to suggestCharts:', error);\n",
              "      }\n",
              "      quickchartButtonEl.classList.remove('colab-df-spinner');\n",
              "      quickchartButtonEl.classList.add('colab-df-quickchart-complete');\n",
              "    }\n",
              "    (() => {\n",
              "      let quickchartButtonEl =\n",
              "        document.querySelector('#df-47ce873b-aa49-42e9-b346-051e85e86ee1 button');\n",
              "      quickchartButtonEl.style.display =\n",
              "        google.colab.kernel.accessAllowed ? 'block' : 'none';\n",
              "    })();\n",
              "  </script>\n",
              "</div>\n",
              "    </div>\n",
              "  </div>\n"
            ]
          },
          "metadata": {},
          "execution_count": 13
        }
      ]
    },
    {
      "cell_type": "code",
      "source": [
        "# Check if there is any null value in df_copy\n",
        "assert df_copy.isna().sum().sum() == 0, \"Error: There are null values in the DataFrame.\"\n",
        "\n",
        "print(\"No null values found.\")\n",
        "print(df_copy.isna().sum())"
      ],
      "metadata": {
        "colab": {
          "base_uri": "https://localhost:8080/"
        },
        "id": "GSDIO8qhLjSX",
        "outputId": "813b6709-94de-4c0f-aa7e-743a7503ef8c"
      },
      "execution_count": null,
      "outputs": [
        {
          "output_type": "stream",
          "name": "stdout",
          "text": [
            "No null values found.\n",
            "JAWABAN    0\n",
            "LABEL      0\n",
            "dtype: int64\n"
          ]
        }
      ]
    },
    {
      "cell_type": "code",
      "source": [
        "# Pre-process label representation\n",
        "label_value = df_copy['LABEL'].unique()\n",
        "print(\"Original unique values in the 'LABEL' column:\", label_value)\n",
        "\n",
        "if 'NETRAL' in label_value:\n",
        "  df_copy = df_copy[df_copy['LABEL'] != 'NETRAL']\n",
        "  print(\"Rows with 'NETRAL' values dropped.\")\n",
        "else:\n",
        "  print(\"No 'NETRAL' values found in the 'LABEL' column.\")\n",
        "\n",
        "df_copy['LABEL'] = df_copy['LABEL'].map({\n",
        "  'NEGATIF': 0,\n",
        "  'POSITIF': 1\n",
        "})\n",
        "\n",
        "print(\"Unique values after mapping in the 'LABEL' column:\", df_copy['LABEL'].unique())"
      ],
      "metadata": {
        "colab": {
          "base_uri": "https://localhost:8080/"
        },
        "id": "KrzB_iaYLrHH",
        "outputId": "9ce1d5f4-7269-4a6c-de28-2c34b2e837b7"
      },
      "execution_count": null,
      "outputs": [
        {
          "output_type": "stream",
          "name": "stdout",
          "text": [
            "Original unique values in the 'LABEL' column: ['NEGATIF' 'POSITIF' 'NETRAL']\n",
            "Rows with 'NETRAL' values dropped.\n",
            "Unique values after mapping in the 'LABEL' column: [0 1]\n"
          ]
        }
      ]
    },
    {
      "cell_type": "code",
      "source": [
        "# Plot distribution of labels\n",
        "import seaborn as sns\n",
        "import matplotlib.pyplot as plt\n",
        "\n",
        "colors = sns.color_palette(\"pastel\")\n",
        "label_counts = df_copy['LABEL'].value_counts()\n",
        "\n",
        "total_samples = len(df_copy['LABEL'])\n",
        "percentage_distribution = (label_counts / total_samples) * 100\n",
        "\n",
        "plt.figure(figsize=(8, 6))\n",
        "ax = sns.barplot(x=label_counts.index, y=label_counts, palette=colors)\n",
        "\n",
        "ax.set_ylabel('Number of Samples')\n",
        "ax.set_xticklabels(['Negative', 'Positive'])\n",
        "plt.title('Distribution of Labels')\n",
        "\n",
        "for i, p in enumerate(ax.patches):\n",
        "  height = p.get_height()\n",
        "  ax.annotate(f'{percentage_distribution[i]:.2f}%', (p.get_x() + p.get_width() / 2., height),\n",
        "              ha='center', va='bottom', fontsize=10, color='black')\n",
        "\n",
        "ax.yaxis.grid(True, linestyle='--', alpha=0.7)\n",
        "plt.show()"
      ],
      "metadata": {
        "colab": {
          "base_uri": "https://localhost:8080/",
          "height": 545
        },
        "id": "VJpUxD3DNaVo",
        "outputId": "66cab84d-92f5-42ff-fc1c-8ad32f22c928"
      },
      "execution_count": null,
      "outputs": [
        {
          "output_type": "display_data",
          "data": {
            "text/plain": [
              "<Figure size 800x600 with 1 Axes>"
            ],
            "image/png": "[encoded data removed]"
          },
          "metadata": {}
        }
      ]
    },
    {
      "cell_type": "code",
      "source": [
        "import pandas as pd\n",
        "\n",
        "sample_df = df_copy.sample(n=15, random_state=42)\n",
        "\n",
        "sentences = df_copy['JAWABAN'].values\n",
        "labels = df_copy['LABEL'].values\n",
        "\n",
        "print(\"Random Texts and Labels (Sample of 15 entries):\")\n",
        "for i, (sentence, label) in enumerate(zip(sample_df['JAWABAN'], sample_df['LABEL']), 1):\n",
        "  print(f\"{i}. Label: {label} - Text: {sentence}\\n\")"
      ],
      "metadata": {
        "colab": {
          "base_uri": "https://localhost:8080/"
        },
        "id": "BUizpSlbOJK-",
        "outputId": "b4861596-3e95-4322-d118-18c4ba0eb2f0"
      },
      "execution_count": null,
      "outputs": [
        {
          "output_type": "stream",
          "name": "stdout",
          "text": [
            "Random Texts and Labels (Sample of 15 entries):\n",
            "1. Label: 0 - Text: Izin pak saran saya, penyampaian materi lebih tegas dan lantang, agar tidak mahasiswa tertarik dan tidak menimbulkan efek ngantuk pak. Terimakasih \n",
            "\n",
            "2. Label: 1 - Text: No comment karena kami di ganti kan oleh buk XYZ dan dengan XYZ kami enjoy dan ilmunya yg di ajarkan paham\n",
            "\n",
            "3. Label: 0 - Text: Pembelajaran dengan beliau sangat baik tetepi beberapa kali jam mata kuliah di ganti tidak sesuai jadwal \n",
            "\n",
            "4. Label: 0 - Text: Untuk buk XYZ kedepannya tolong jangan suka php mahasiswa\n",
            "\n",
            "5. Label: 1 - Text: Menurut saya cara pembelajaran ibu sudah baik, karna ibu menjelaskan kepada mahasiswa terkait materi yang sudah kami persiapkan dengan jelas dan ibu juga memberikan kami saran terkait penulisan ppt yang benar. \n",
            "\n",
            "6. Label: 1 - Text: Proses perkuliahan sudah sangat baik, sehingga materi yang sudah disampaikan menjadi lebih mudah untuk dipahami. Semoga proses pembelajaran ke depannya tetap aktif dan mahasiswa bisa lebih bersungguh-sungguh di dalam kelas. \n",
            "\n",
            "7. Label: 1 - Text: Terima kasih buk atas ilmu dan bimbingannya. Terima kasih juga telah membuat mahasiswa menjadi aktif diskusi di kelas. Untuk diskusinya, apabila dijadikan nilai ujian, mohon untuk yang bertanya, menjawab dan menanggapi tidak dibatasi dan juga durasi untuk setiap kelompok presentasi diperpanjang, terima kasih Buk.\n",
            "\n",
            "8. Label: 0 - Text: Cara mengajar sudah baik, namun agak telat dalam memulai perkuliahan\n",
            "\n",
            "9. Label: 0 - Text: Bapak kurang antusias dalam menyampaikan materi selama proses pembelajaran, saran dari saya bapak dapat lebih aktif dalam kegiatan perkuliahan, sehingga materi yang disampaikan lebih maksimal.\n",
            "\n",
            "10. Label: 0 - Text: Cara mengajar sudah baik, namun waktu memulai perkuliahan selalu telat. Sehingga perkuliahan dimulai terlambat.\n",
            "\n",
            "11. Label: 0 - Text: Kami sebagai mahasiswa  ibu dosen dpat memberikan materi yg di sampaikan kepada mahasiswa,agar mahasiswa bisa mengerti apa yang di jelaskan oleh dosen .\n",
            "\n",
            "12. Label: 0 - Text: Materi kebanyakan dalam bentuk print sehingga membuat siswa harus selalu ngeprint materi, saran agar dpt membuat metode yang tidak terlalu banyak membuat print\n",
            "\n",
            "13. Label: 0 - Text: saran saya tolong jangan galak2 dan  mimik wajahnya jangan datar, karna kesannya menakutkan wkwkwk\n",
            "\n",
            "14. Label: 1 - Text: Pak XYZ merupakan dosen yang sangat teladan\n",
            "\n",
            "15. Label: 0 - Text: Semoga bisa memberi perkuliahan yang lebih efektif sesuai jadwal, dan menyampaikan materi perkuliahan secara maksimal dengan lebih banyak materi dan tugas yang membangun mahasiswa untuk memahami mata kuliah tersebut. \n",
            "\n"
          ]
        }
      ]
    },
    {
      "cell_type": "code",
      "source": [
        "!pip install transformers -q"
      ],
      "metadata": {
        "id": "MzB5nyGAQzF_"
      },
      "execution_count": null,
      "outputs": []
    },
    {
      "cell_type": "code",
      "source": [
        "from transformers import BertTokenizer, RobertaTokenizer, GPT2Tokenizer\n",
        "from transformers import BertForSequenceClassification, RobertaForSequenceClassification, GPT2ForSequenceClassification\n",
        "\n",
        "def load_tokenizer_and_model(MODEL_NAME):\n",
        "  model_classes = {\n",
        "    \"mbert\": (BertTokenizer, BertForSequenceClassification, 'bert-base-multilingual-uncased'),\n",
        "    \"indobert\": (BertTokenizer, BertForSequenceClassification, 'indolem/indobert-base-uncased'),\n",
        "    \"roberta\": (RobertaTokenizer, RobertaForSequenceClassification, 'cahya/roberta-base-indonesian-522M'),\n",
        "    \"gpt2\": (GPT2Tokenizer, GPT2ForSequenceClassification, 'cahya/gpt2-small-indonesian-522M'),\n",
        "  }\n",
        "\n",
        "  if MODEL_NAME.lower() not in model_classes:\n",
        "    raise ValueError(f\"Unsupported model: {MODEL_NAME}\")\n",
        "\n",
        "  tokenizer_class, model_class, model_pretrained = model_classes[MODEL_NAME.lower()]\n",
        "\n",
        "  tokenizer = tokenizer_class.from_pretrained(model_pretrained, do_lower_case=True)\n",
        "  model = model_class.from_pretrained(model_pretrained, num_labels=2)\n",
        "\n",
        "  # Set pad_token for GPT-2\n",
        "  if MODEL_NAME.lower() == 'gpt2':\n",
        "    tokenizer.pad_token = tokenizer.eos_token\n",
        "    model.config.pad_token_id = tokenizer.pad_token_id\n",
        "\n",
        "  return tokenizer, model"
      ],
      "metadata": {
        "id": "d3BydFJlQ6nH"
      },
      "execution_count": null,
      "outputs": []
    },
    {
      "cell_type": "code",
      "source": [
        "tokenizer, model = load_tokenizer_and_model(MODEL_NAME)\n",
        "\n",
        "if FREEZE_LAYER:\n",
        "  if MODEL_NAME == 'gpt2':\n",
        "    # Freeze all layers except the embedding and positional embedding layers\n",
        "    for param in model.transformer.wte.parameters():\n",
        "      param.requires_grad = False\n",
        "    for param in model.transformer.wpe.parameters():\n",
        "      param.requires_grad = False\n",
        "  else:\n",
        "    # Freeze all layers except the final classification layer\n",
        "    for param in model.parameters():\n",
        "      param.requires_grad = False\n",
        "\n",
        "    # Make the classification layer trainable\n",
        "    for param in model.classifier.parameters():\n",
        "      param.requires_grad = True\n",
        "\n",
        "# Check the tokenization process results\n",
        "print(\"Original Sentence: \", sentences[0])\n",
        "print(\"Tokenized Sentence: \", tokenizer.tokenize(sentences[0]))\n",
        "print(\"Token IDS: \", tokenizer.convert_tokens_to_ids(tokenizer.tokenize(sentences[0])))"
      ],
      "metadata": {
        "colab": {
          "base_uri": "https://localhost:8080/"
        },
        "id": "8QSrg1YvTH4_",
        "outputId": "42b72c6a-3d92-40fc-a18b-fb5c04aa8c8b"
      },
      "execution_count": null,
      "outputs": [
        {
          "output_type": "stream",
          "name": "stderr",
          "text": [
            "Some weights of GPT2ForSequenceClassification were not initialized from the model checkpoint at cahya/gpt2-small-indonesian-522M and are newly initialized: ['score.weight']\n",
            "You should probably TRAIN this model on a down-stream task to be able to use it for predictions and inference.\n"
          ]
        },
        {
          "output_type": "stream",
          "name": "stdout",
          "text": [
            "Original Sentence:  Selama proses perkuliahan sudah cukup baik, hanya saja untuk pertemuan terakhir sebelum UAS dosen jarang masuk sehingga materi nya kurang dipahami mahasiswa \n",
            "Tokenized Sentence:  ['Selama', 'Ġproses', 'Ġperkuliahan', 'Ġsudah', 'Ġcukup', 'Ġbaik', ',', 'Ġhanya', 'Ġsaja', 'Ġuntuk', 'Ġpertemuan', 'Ġterakhir', 'Ġsebelum', 'ĠU', 'AS', 'Ġdosen', 'Ġjarang', 'Ġmasuk', 'Ġsehingga', 'Ġmateri', 'Ġnya', 'Ġkurang', 'Ġdipahami', 'Ġmahasiswa', 'Ġ']\n",
            "Token IDS:  [5227, 1451, 20369, 1084, 1294, 1185, 12, 838, 1792, 369, 4114, 1592, 867, 459, 2703, 7792, 4867, 1450, 1029, 4023, 3278, 1778, 11468, 3674, 221]\n"
          ]
        }
      ]
    },
    {
      "cell_type": "code",
      "source": [
        "import torch\n",
        "\n",
        "if torch.cuda.is_available():\n",
        "  device = torch.device('cuda')\n",
        "  model.cuda()\n",
        "  print(f'There are {torch.cuda.device_count()} GPU(s) available. GPU: {torch.cuda.get_device_name(0)}')\n",
        "else:\n",
        "  print(\"No GPU available, using the CPU instead\")\n",
        "  device = torch.device(\"cpu\")"
      ],
      "metadata": {
        "colab": {
          "base_uri": "https://localhost:8080/"
        },
        "id": "rYcBMlsEmPWc",
        "outputId": "a4658e20-5836-4232-aa96-f4b9c838c2f8"
      },
      "execution_count": null,
      "outputs": [
        {
          "output_type": "stream",
          "name": "stdout",
          "text": [
            "There are 1 GPU(s) available. GPU: Tesla T4\n"
          ]
        }
      ]
    },
    {
      "cell_type": "code",
      "source": [
        "# Max sentence length and encode the sentence and add special tokens (e.g., [CLS] and [SEP])\n",
        "max_len = 0\n",
        "\n",
        "for sentence in sentences:\n",
        "  input_ids = tokenizer.encode(sentence, add_special_tokens=True)\n",
        "  max_len = max(max_len, len(input_ids))\n",
        "\n",
        "print('Max sentence length: ', max_len)\n",
        "\n",
        "MAX_LEN = 64 if max_len <= 64 else (128 if max_len <= 128 else (256 if max_len <= 256 else 512))\n",
        "print(f\"Recommended MAX_LEN: {MAX_LEN}\")"
      ],
      "metadata": {
        "colab": {
          "base_uri": "https://localhost:8080/"
        },
        "id": "bAmUZ4RkUcmz",
        "outputId": "6b3067a2-d6d6-4e6d-fae3-0308ac4e133e"
      },
      "execution_count": null,
      "outputs": [
        {
          "output_type": "stream",
          "name": "stdout",
          "text": [
            "Max sentence length:  250\n",
            "Recommended MAX_LEN: 256\n"
          ]
        }
      ]
    },
    {
      "cell_type": "code",
      "source": [
        "# Tokenize all of the sentences and map the tokens to thier word IDs.\n",
        "input_ids = []\n",
        "attention_masks = []\n",
        "\n",
        "for sentence in sentences:\n",
        "  encoded_dict = tokenizer.encode_plus(\n",
        "    sentence,\n",
        "    add_special_tokens = True,\n",
        "    max_length = MAX_LEN,\n",
        "    padding='max_length',\n",
        "    truncation=True,\n",
        "    return_attention_mask = True,\n",
        "    return_tensors = 'pt'\n",
        "  )\n",
        "\n",
        "  input_ids.append(encoded_dict['input_ids'])\n",
        "  attention_masks.append(encoded_dict['attention_mask'])\n",
        "\n",
        "input_ids = torch.cat(input_ids, dim=0)\n",
        "attention_masks = torch.cat(attention_masks, dim=0)\n",
        "labels = torch.tensor(labels)\n",
        "\n",
        "print('Original: ', sentences[0])\n",
        "print('Token IDs:', input_ids[0])"
      ],
      "metadata": {
        "colab": {
          "base_uri": "https://localhost:8080/"
        },
        "id": "GcQSe4rsXFtG",
        "outputId": "506afa54-db0d-4128-d526-36084b770b32"
      },
      "execution_count": null,
      "outputs": [
        {
          "output_type": "stream",
          "name": "stdout",
          "text": [
            "Original:  Selama proses perkuliahan sudah cukup baik, hanya saja untuk pertemuan terakhir sebelum UAS dosen jarang masuk sehingga materi nya kurang dipahami mahasiswa \n",
            "Token IDs: tensor([ 5227,  1451, 20369,  1084,  1294,  1185,    12,   838,  1792,   369,\n",
            "         4114,  1592,   867,   459,  2703,  7792,  4867,  1450,  1029,  4023,\n",
            "         3278,  1778, 11468,  3674,   221,     0,     0,     0,     0,     0,\n",
            "            0,     0,     0,     0,     0,     0,     0,     0,     0,     0,\n",
            "            0,     0,     0,     0,     0,     0,     0,     0,     0,     0,\n",
            "            0,     0,     0,     0,     0,     0,     0,     0,     0,     0,\n",
            "            0,     0,     0,     0,     0,     0,     0,     0,     0,     0,\n",
            "            0,     0,     0,     0,     0,     0,     0,     0,     0,     0,\n",
            "            0,     0,     0,     0,     0,     0,     0,     0,     0,     0,\n",
            "            0,     0,     0,     0,     0,     0,     0,     0,     0,     0,\n",
            "            0,     0,     0,     0,     0,     0,     0,     0,     0,     0,\n",
            "            0,     0,     0,     0,     0,     0,     0,     0,     0,     0,\n",
            "            0,     0,     0,     0,     0,     0,     0,     0,     0,     0,\n",
            "            0,     0,     0,     0,     0,     0,     0,     0,     0,     0,\n",
            "            0,     0,     0,     0,     0,     0,     0,     0,     0,     0,\n",
            "            0,     0,     0,     0,     0,     0,     0,     0,     0,     0,\n",
            "            0,     0,     0,     0,     0,     0,     0,     0,     0,     0,\n",
            "            0,     0,     0,     0,     0,     0,     0,     0,     0,     0,\n",
            "            0,     0,     0,     0,     0,     0,     0,     0,     0,     0,\n",
            "            0,     0,     0,     0,     0,     0,     0,     0,     0,     0,\n",
            "            0,     0,     0,     0,     0,     0,     0,     0,     0,     0,\n",
            "            0,     0,     0,     0,     0,     0,     0,     0,     0,     0,\n",
            "            0,     0,     0,     0,     0,     0,     0,     0,     0,     0,\n",
            "            0,     0,     0,     0,     0,     0,     0,     0,     0,     0,\n",
            "            0,     0,     0,     0,     0,     0,     0,     0,     0,     0,\n",
            "            0,     0,     0,     0,     0,     0])\n"
          ]
        }
      ]
    },
    {
      "cell_type": "code",
      "source": [
        "# Training, validation, and test split\n",
        "from torch.utils.data import TensorDataset, random_split\n",
        "\n",
        "dataset = TensorDataset(input_ids, attention_masks, labels)\n",
        "\n",
        "total_size = len(dataset)\n",
        "train_size = int(0.8 * total_size)\n",
        "remaining_size = total_size - train_size\n",
        "val_size = test_size = remaining_size // 2\n",
        "\n",
        "if remaining_size % 2 != 0:\n",
        "  train_size += 1\n",
        "\n",
        "train_dataset, val_dataset, test_dataset = random_split(dataset, [train_size, val_size, test_size])\n",
        "\n",
        "print('{:>5,} training samples'.format(train_size))\n",
        "print('{:>5,} validation samples'.format(val_size))\n",
        "print('{:>5,} test samples'.format(test_size))"
      ],
      "metadata": {
        "colab": {
          "base_uri": "https://localhost:8080/"
        },
        "id": "J5SACNSPe0Rx",
        "outputId": "95ad9f1b-3bd4-4907-8d94-cf853e2bad78"
      },
      "execution_count": null,
      "outputs": [
        {
          "output_type": "stream",
          "name": "stdout",
          "text": [
            "4,627 training samples\n",
            "  578 validation samples\n",
            "  578 test samples\n"
          ]
        }
      ]
    },
    {
      "cell_type": "code",
      "source": [
        "from torch.utils.data import DataLoader, RandomSampler, SequentialSampler\n",
        "\n",
        "batch_size = BATCH_SIZE\n",
        "\n",
        "train_dataloader = DataLoader(\n",
        "  train_dataset,\n",
        "  sampler = RandomSampler(train_dataset),\n",
        "  batch_size = batch_size\n",
        ")\n",
        "\n",
        "validation_dataloader = DataLoader(\n",
        "  val_dataset,\n",
        "  sampler = SequentialSampler(val_dataset),\n",
        "  batch_size = batch_size\n",
        ")\n",
        "\n",
        "test_dataloader = DataLoader(\n",
        "  test_dataset,\n",
        "  sampler = SequentialSampler(test_dataset),\n",
        "  batch_size = batch_size\n",
        ")"
      ],
      "metadata": {
        "id": "4ge_Lb6ReFQi"
      },
      "execution_count": null,
      "outputs": []
    },
    {
      "cell_type": "code",
      "source": [
        "# Get all of the model's parameters as a list of tuples.\n",
        "params = list(model.named_parameters())\n",
        "\n",
        "print('The {} model has {:,} different named parameters.\\n'.format(\n",
        "    MODEL_NAME.upper(),\n",
        "    len(params)\n",
        "))\n",
        "\n",
        "sections = {\n",
        "  'Embedding Layer': params[0:5],\n",
        "  'First Transformer': params[5:21],\n",
        "  'Output Layer': params[-4:]\n",
        "}\n",
        "\n",
        "for section, parameters in sections.items():\n",
        "  print(f'==== {section} ====\\n')\n",
        "  for p in parameters:\n",
        "    print(\"{:<55} {:>12}\".format(p[0], str(tuple(p[1].size()))))\n",
        "  print()"
      ],
      "metadata": {
        "colab": {
          "base_uri": "https://localhost:8080/"
        },
        "id": "kEnALMeigXwN",
        "outputId": "456bc5c5-3625-40b1-9792-571ec6c9c79e"
      },
      "execution_count": null,
      "outputs": [
        {
          "output_type": "stream",
          "name": "stdout",
          "text": [
            "The BERT model has 149 different named parameters.\n",
            "\n",
            "==== Embedding Layer ====\n",
            "\n",
            "transformer.wte.weight                                  (50257, 768)\n",
            "transformer.wpe.weight                                   (1024, 768)\n",
            "transformer.h.0.ln_1.weight                                   (768,)\n",
            "transformer.h.0.ln_1.bias                                     (768,)\n",
            "transformer.h.0.attn.c_attn.weight                       (768, 2304)\n",
            "\n",
            "==== First Transformer ====\n",
            "\n",
            "transformer.h.0.attn.c_attn.bias                             (2304,)\n",
            "transformer.h.0.attn.c_proj.weight                        (768, 768)\n",
            "transformer.h.0.attn.c_proj.bias                              (768,)\n",
            "transformer.h.0.ln_2.weight                                   (768,)\n",
            "transformer.h.0.ln_2.bias                                     (768,)\n",
            "transformer.h.0.mlp.c_fc.weight                          (768, 3072)\n",
            "transformer.h.0.mlp.c_fc.bias                                (3072,)\n",
            "transformer.h.0.mlp.c_proj.weight                        (3072, 768)\n",
            "transformer.h.0.mlp.c_proj.bias                               (768,)\n",
            "transformer.h.1.ln_1.weight                                   (768,)\n",
            "transformer.h.1.ln_1.bias                                     (768,)\n",
            "transformer.h.1.attn.c_attn.weight                       (768, 2304)\n",
            "transformer.h.1.attn.c_attn.bias                             (2304,)\n",
            "transformer.h.1.attn.c_proj.weight                        (768, 768)\n",
            "transformer.h.1.attn.c_proj.bias                              (768,)\n",
            "transformer.h.1.ln_2.weight                                   (768,)\n",
            "\n",
            "==== Output Layer ====\n",
            "\n",
            "transformer.h.11.mlp.c_proj.bias                              (768,)\n",
            "transformer.ln_f.weight                                       (768,)\n",
            "transformer.ln_f.bias                                         (768,)\n",
            "score.weight                                                (2, 768)\n",
            "\n"
          ]
        }
      ]
    },
    {
      "cell_type": "code",
      "source": [
        "# Optimizer setup\n",
        "from transformers import AdamW\n",
        "\n",
        "optimizer = AdamW(model.parameters(), lr=LEARNING_RATE, eps=1e-8)"
      ],
      "metadata": {
        "colab": {
          "base_uri": "https://localhost:8080/"
        },
        "id": "hPSI9yb0jai-",
        "outputId": "273fbe9f-7cf4-42d1-a7ba-e5a785ee4499"
      },
      "execution_count": null,
      "outputs": [
        {
          "output_type": "stream",
          "name": "stderr",
          "text": [
            "/usr/local/lib/python3.10/dist-packages/transformers/optimization.py:411: FutureWarning: This implementation of AdamW is deprecated and will be removed in a future version. Use the PyTorch implementation torch.optim.AdamW instead, or set `no_deprecation_warning=True` to disable this warning\n",
            "  warnings.warn(\n"
          ]
        }
      ]
    },
    {
      "cell_type": "code",
      "source": [
        "# Learning rate scheduler\n",
        "from transformers import get_linear_schedule_with_warmup\n",
        "\n",
        "epochs = EPOCH\n",
        "total_steps = len(train_dataloader) * epochs\n",
        "\n",
        "scheduler = get_linear_schedule_with_warmup(\n",
        "  optimizer,\n",
        "  num_warmup_steps=0,\n",
        "  num_training_steps=total_steps\n",
        ")"
      ],
      "metadata": {
        "id": "PjjvP5JLl97i"
      },
      "execution_count": null,
      "outputs": []
    },
    {
      "cell_type": "code",
      "source": [
        "import numpy as np\n",
        "\n",
        "# Function to calculate the accuracy of our predictions vs labels\n",
        "def flat_accuracy(preds, labels):\n",
        "  pred_flat = np.argmax(preds, axis=1).flatten()\n",
        "  labels_flat = labels.flatten()\n",
        "  return np.sum(pred_flat == labels_flat) / len(labels_flat)"
      ],
      "metadata": {
        "id": "bsxhOb-hmEd8"
      },
      "execution_count": null,
      "outputs": []
    },
    {
      "cell_type": "code",
      "source": [
        "import time\n",
        "import datetime\n",
        "\n",
        "def format_time(elapsed):\n",
        "  elapsed_rounded = int(round((elapsed)))\n",
        "\n",
        "  # Format as hh:mm:ss\n",
        "  return str(datetime.timedelta(seconds=elapsed_rounded))"
      ],
      "metadata": {
        "id": "1grAKpRNmvWb"
      },
      "execution_count": null,
      "outputs": []
    },
    {
      "cell_type": "code",
      "source": [
        "import random\n",
        "\n",
        "RANDOM_SEED = 42\n",
        "\n",
        "random.seed(RANDOM_SEED)\n",
        "np.random.seed(RANDOM_SEED)\n",
        "torch.manual_seed(RANDOM_SEED)\n",
        "torch.cuda.manual_seed_all(RANDOM_SEED)\n",
        "\n",
        "training_stats = []\n",
        "total_t0 = time.time()\n",
        "\n",
        "for epoch_i in range(0, epochs):\n",
        "  # ========================================\n",
        "  #               Training\n",
        "  # ========================================\n",
        "  print(\"\")\n",
        "  print(\"======= Epoch {:} / {:} =======\".format(epoch_i+1, epochs))\n",
        "  print(\"Training...\")\n",
        "\n",
        "  # Measure how long the training epoch takes.\n",
        "  t0 = time.time()\n",
        "\n",
        "  # Reset the total loss for this epoch.\n",
        "  total_train_loss = 0\n",
        "\n",
        "  # Put the model into training mode.\n",
        "  model.train()\n",
        "\n",
        "  for step, batch in enumerate(train_dataloader):\n",
        "    if step % 40 == 0 and not step == 0:\n",
        "      elapsed = format_time(time.time() - t0)\n",
        "      print(\"Batch {:>5,} of {:>5,}.  Elapsed: {:}\".format(step, len(train_dataloader), elapsed))\n",
        "\n",
        "    # Unpack this training batch from our dataloader.\n",
        "    b_input_ids = batch[0].to(device)\n",
        "    b_input_mask = batch[1].to(device)\n",
        "    b_labels = batch[2].to(device)\n",
        "\n",
        "    # Clear any previously calculated gradients before performing a backward pass.\n",
        "    model.zero_grad()\n",
        "\n",
        "    # Perform a forward pass (evaluate the model on this training batch).\n",
        "    result = model(\n",
        "      b_input_ids,\n",
        "      token_type_ids=None,\n",
        "      attention_mask=b_input_mask,\n",
        "      labels=b_labels,\n",
        "      return_dict=True\n",
        "    )\n",
        "\n",
        "    loss = result.loss\n",
        "    logits = result.logits\n",
        "\n",
        "    total_train_loss += loss.item()\n",
        "\n",
        "    # Perform a backward pass to calculate the gradients.\n",
        "    loss.backward()\n",
        "\n",
        "    # Clip the norm of the gradients to 1.0.\n",
        "    # This is to help prevent the \"exploding gradients\" problem.\n",
        "    torch.nn.utils.clip_grad_norm_(model.parameters(), 1.0)\n",
        "\n",
        "    # Update parameters and take a step using the computed gradient.\n",
        "    optimizer.step()\n",
        "\n",
        "    # Update the learning rate.\n",
        "    scheduler.step()\n",
        "\n",
        "  # Calculate the average loss over all of the batches.\n",
        "  avg_train_loss = total_train_loss / len(train_dataloader)\n",
        "\n",
        "  training_time = format_time(time.time() - t0)\n",
        "\n",
        "  print(\"   Average training loss: {0:.2f}\".format(avg_train_loss))\n",
        "  print(\"   Training epoch took: {:}\".format(format_time(time.time() - t0)))\n",
        "\n",
        "  # ========================================\n",
        "  #               Validation\n",
        "  # ========================================\n",
        "  print(\"\")\n",
        "  print(\"Running Validation...\")\n",
        "  t0 = time.time()\n",
        "\n",
        "  # Put the model in evaluation mode\n",
        "  model.eval()\n",
        "\n",
        "  total_eval_accuracy = 0\n",
        "  total_eval_loss = 0\n",
        "  nb_eval_steps = 0\n",
        "\n",
        "  # Evaluate data for one epoch\n",
        "  for batch in validation_dataloader:\n",
        "    # Unpack this training batch from our dataloader.\n",
        "    b_input_ids = batch[0].to(device)\n",
        "    b_input_mask = batch[1].to(device)\n",
        "    b_labels = batch[2].to(device)\n",
        "\n",
        "    with torch.no_grad():\n",
        "      # Forward pass, calculate logit predictions.\n",
        "      result = model(\n",
        "        b_input_ids,\n",
        "        token_type_ids=None,\n",
        "        attention_mask=b_input_mask,\n",
        "        labels=b_labels,\n",
        "        return_dict=True\n",
        "      )\n",
        "\n",
        "    # Get the loss and \"logits\" output by the model.\n",
        "    loss = result.loss\n",
        "    logits = result.logits\n",
        "\n",
        "    total_eval_loss += loss.item()\n",
        "\n",
        "    # Move logits and labels to CPU\n",
        "    logits = logits.detach().cpu().numpy()\n",
        "    label_ids = b_labels.to('cpu').numpy()\n",
        "\n",
        "    # Calculate the accuracy for this batch of test sentences, and\n",
        "    # accumulate it over all batches.\n",
        "    total_eval_accuracy += flat_accuracy(logits, label_ids)\n",
        "\n",
        "  # Report the final accuracy for this validation run.\n",
        "  avg_val_accuracy = total_eval_accuracy / len(validation_dataloader)\n",
        "  print(\"  Accuracy: {0:.2f}\".format(avg_val_accuracy))\n",
        "\n",
        "  # Calculate the average loss over all of the batches.\n",
        "  avg_val_loss = total_eval_loss / len(validation_dataloader)\n",
        "\n",
        "  # Measure how long the validation run took.\n",
        "  validation_time = format_time(time.time() - t0)\n",
        "\n",
        "  print(\"  Validation Loss: {0:.2f}\".format(avg_val_loss))\n",
        "  print(\"  Validation took: {:}\".format(validation_time))\n",
        "\n",
        "  # Record all statistics from this epoch.\n",
        "  training_stats.append(\n",
        "    {\n",
        "      'epoch': epoch_i + 1,\n",
        "      'Training Loss': avg_train_loss,\n",
        "      'Valid. Loss': avg_val_loss,\n",
        "      'Valid. Accur.': avg_val_accuracy,\n",
        "      'Training Time': training_time,\n",
        "      'Validation Time': validation_time\n",
        "    }\n",
        "  )\n",
        "\n",
        "print(\"\")\n",
        "print(\"Training complete!\")\n",
        "print(\"Total training took {:} (h:mm:ss)\".format(format_time(time.time()-total_t0)))"
      ],
      "metadata": {
        "colab": {
          "base_uri": "https://localhost:8080/"
        },
        "id": "sD1yKHnnm4U8",
        "outputId": "f0eb9d95-ad18-4b43-f2f3-13e5087a4190"
      },
      "execution_count": null,
      "outputs": [
        {
          "output_type": "stream",
          "name": "stdout",
          "text": [
            "\n",
            "======= Epoch 1 / 4 =======\n",
            "Training...\n",
            "Batch    40 of   290.  Elapsed: 0:00:29\n",
            "Batch    80 of   290.  Elapsed: 0:00:58\n",
            "Batch   120 of   290.  Elapsed: 0:01:26\n",
            "Batch   160 of   290.  Elapsed: 0:01:56\n",
            "Batch   200 of   290.  Elapsed: 0:02:25\n",
            "Batch   240 of   290.  Elapsed: 0:02:54\n",
            "Batch   280 of   290.  Elapsed: 0:03:23\n",
            "   Average training loss: 0.36\n",
            "   Training epoch took: 0:03:30\n",
            "\n",
            "Running Validation...\n",
            "  Accuracy: 0.91\n",
            "  Validation Loss: 0.24\n",
            "  Validation took: 0:00:09\n",
            "\n",
            "======= Epoch 2 / 4 =======\n",
            "Training...\n",
            "Batch    40 of   290.  Elapsed: 0:00:29\n",
            "Batch    80 of   290.  Elapsed: 0:00:58\n",
            "Batch   120 of   290.  Elapsed: 0:01:27\n",
            "Batch   160 of   290.  Elapsed: 0:01:56\n",
            "Batch   200 of   290.  Elapsed: 0:02:25\n",
            "Batch   240 of   290.  Elapsed: 0:02:54\n",
            "Batch   280 of   290.  Elapsed: 0:03:24\n",
            "   Average training loss: 0.21\n",
            "   Training epoch took: 0:03:30\n",
            "\n",
            "Running Validation...\n",
            "  Accuracy: 0.92\n",
            "  Validation Loss: 0.24\n",
            "  Validation took: 0:00:09\n",
            "\n",
            "======= Epoch 3 / 4 =======\n",
            "Training...\n",
            "Batch    40 of   290.  Elapsed: 0:00:29\n",
            "Batch    80 of   290.  Elapsed: 0:00:58\n",
            "Batch   120 of   290.  Elapsed: 0:01:27\n",
            "Batch   160 of   290.  Elapsed: 0:01:56\n",
            "Batch   200 of   290.  Elapsed: 0:02:25\n",
            "Batch   240 of   290.  Elapsed: 0:02:55\n",
            "Batch   280 of   290.  Elapsed: 0:03:24\n",
            "   Average training loss: 0.13\n",
            "   Training epoch took: 0:03:31\n",
            "\n",
            "Running Validation...\n",
            "  Accuracy: 0.92\n",
            "  Validation Loss: 0.30\n",
            "  Validation took: 0:00:09\n",
            "\n",
            "======= Epoch 4 / 4 =======\n",
            "Training...\n",
            "Batch    40 of   290.  Elapsed: 0:00:29\n",
            "Batch    80 of   290.  Elapsed: 0:00:58\n",
            "Batch   120 of   290.  Elapsed: 0:01:28\n",
            "Batch   160 of   290.  Elapsed: 0:01:57\n",
            "Batch   200 of   290.  Elapsed: 0:02:26\n",
            "Batch   240 of   290.  Elapsed: 0:02:55\n",
            "Batch   280 of   290.  Elapsed: 0:03:25\n",
            "   Average training loss: 0.06\n",
            "   Training epoch took: 0:03:31\n",
            "\n",
            "Running Validation...\n",
            "  Accuracy: 0.91\n",
            "  Validation Loss: 0.36\n",
            "  Validation took: 0:00:09\n",
            "\n",
            "Training complete!\n",
            "Total training took 0:14:39 (h:mm:ss)\n"
          ]
        }
      ]
    },
    {
      "cell_type": "code",
      "source": [
        "import pandas as pd\n",
        "\n",
        "pd.set_option('display.precision', 2)\n",
        "\n",
        "df_stats = pd.DataFrame(data=training_stats)\n",
        "df_stats = df_stats.set_index('epoch')\n",
        "\n",
        "df_stats"
      ],
      "metadata": {
        "colab": {
          "base_uri": "https://localhost:8080/",
          "height": 206
        },
        "id": "RwB_YlGom9s3",
        "outputId": "de15b7dd-4aa4-48ac-8f91-c324754bb31c"
      },
      "execution_count": null,
      "outputs": [
        {
          "output_type": "execute_result",
          "data": {
            "text/plain": [
              "       Training Loss  Valid. Loss  Valid. Accur. Training Time Validation Time\n",
              "epoch                                                                         \n",
              "1               0.36         0.24           0.91       0:03:30         0:00:09\n",
              "2               0.21         0.24           0.92       0:03:30         0:00:09\n",
              "3               0.13         0.30           0.92       0:03:31         0:00:09\n",
              "4               0.06         0.36           0.91       0:03:31         0:00:09"
            ],
            "text/html": [
              "\n",
              "  <div id=\"df-453a84c3-84d6-4a3b-81c5-5a9541a58fbd\" class=\"colab-df-container\">\n",
              "    <div>\n",
              "<style scoped>\n",
              "    .dataframe tbody tr th:only-of-type {\n",
              "        vertical-align: middle;\n",
              "    }\n",
              "\n",
              "    .dataframe tbody tr th {\n",
              "        vertical-align: top;\n",
              "    }\n",
              "\n",
              "    .dataframe thead th {\n",
              "        text-align: right;\n",
              "    }\n",
              "</style>\n",
              "<table border=\"1\" class=\"dataframe\">\n",
              "  <thead>\n",
              "    <tr style=\"text-align: right;\">\n",
              "      <th></th>\n",
              "      <th>Training Loss</th>\n",
              "      <th>Valid. Loss</th>\n",
              "      <th>Valid. Accur.</th>\n",
              "      <th>Training Time</th>\n",
              "      <th>Validation Time</th>\n",
              "    </tr>\n",
              "    <tr>\n",
              "      <th>epoch</th>\n",
              "      <th></th>\n",
              "      <th></th>\n",
              "      <th></th>\n",
              "      <th></th>\n",
              "      <th></th>\n",
              "    </tr>\n",
              "  </thead>\n",
              "  <tbody>\n",
              "    <tr>\n",
              "      <th>1</th>\n",
              "      <td>0.36</td>\n",
              "      <td>0.24</td>\n",
              "      <td>0.91</td>\n",
              "      <td>0:03:30</td>\n",
              "      <td>0:00:09</td>\n",
              "    </tr>\n",
              "    <tr>\n",
              "      <th>2</th>\n",
              "      <td>0.21</td>\n",
              "      <td>0.24</td>\n",
              "      <td>0.92</td>\n",
              "      <td>0:03:30</td>\n",
              "      <td>0:00:09</td>\n",
              "    </tr>\n",
              "    <tr>\n",
              "      <th>3</th>\n",
              "      <td>0.13</td>\n",
              "      <td>0.30</td>\n",
              "      <td>0.92</td>\n",
              "      <td>0:03:31</td>\n",
              "      <td>0:00:09</td>\n",
              "    </tr>\n",
              "    <tr>\n",
              "      <th>4</th>\n",
              "      <td>0.06</td>\n",
              "      <td>0.36</td>\n",
              "      <td>0.91</td>\n",
              "      <td>0:03:31</td>\n",
              "      <td>0:00:09</td>\n",
              "    </tr>\n",
              "  </tbody>\n",
              "</table>\n",
              "</div>\n",
              "    <div class=\"colab-df-buttons\">\n",
              "\n",
              "  <div class=\"colab-df-container\">\n",
              "    <button class=\"colab-df-convert\" onclick=\"convertToInteractive('df-453a84c3-84d6-4a3b-81c5-5a9541a58fbd')\"\n",
              "            title=\"Convert this dataframe to an interactive table.\"\n",
              "            style=\"display:none;\">\n",
              "\n",
              "  <svg xmlns=\"http://www.w3.org/2000/svg\" height=\"24px\" viewBox=\"0 -960 960 960\">\n",
              "    <path d=\"M120-120v-720h720v720H120Zm60-500h600v-160H180v160Zm220 220h160v-160H400v160Zm0 220h160v-160H400v160ZM180-400h160v-160H180v160Zm440 0h160v-160H620v160ZM180-180h160v-160H180v160Zm440 0h160v-160H620v160Z\"/>\n",
              "  </svg>\n",
              "    </button>\n",
              "\n",
              "  <style>\n",
              "    .colab-df-container {\n",
              "      display:flex;\n",
              "      gap: 12px;\n",
              "    }\n",
              "\n",
              "    .colab-df-convert {\n",
              "      background-color: #E8F0FE;\n",
              "      border: none;\n",
              "      border-radius: 50%;\n",
              "      cursor: pointer;\n",
              "      display: none;\n",
              "      fill: #1967D2;\n",
              "      height: 32px;\n",
              "      padding: 0 0 0 0;\n",
              "      width: 32px;\n",
              "    }\n",
              "\n",
              "    .colab-df-convert:hover {\n",
              "      background-color: #E2EBFA;\n",
              "      box-shadow: 0px 1px 2px rgba(60, 64, 67, 0.3), 0px 1px 3px 1px rgba(60, 64, 67, 0.15);\n",
              "      fill: #174EA6;\n",
              "    }\n",
              "\n",
              "    .colab-df-buttons div {\n",
              "      margin-bottom: 4px;\n",
              "    }\n",
              "\n",
              "    [theme=dark] .colab-df-convert {\n",
              "      background-color: #3B4455;\n",
              "      fill: #D2E3FC;\n",
              "    }\n",
              "\n",
              "    [theme=dark] .colab-df-convert:hover {\n",
              "      background-color: #434B5C;\n",
              "      box-shadow: 0px 1px 3px 1px rgba(0, 0, 0, 0.15);\n",
              "      filter: drop-shadow(0px 1px 2px rgba(0, 0, 0, 0.3));\n",
              "      fill: #FFFFFF;\n",
              "    }\n",
              "  </style>\n",
              "\n",
              "    <script>\n",
              "      const buttonEl =\n",
              "        document.querySelector('#df-453a84c3-84d6-4a3b-81c5-5a9541a58fbd button.colab-df-convert');\n",
              "      buttonEl.style.display =\n",
              "        google.colab.kernel.accessAllowed ? 'block' : 'none';\n",
              "\n",
              "      async function convertToInteractive(key) {\n",
              "        const element = document.querySelector('#df-453a84c3-84d6-4a3b-81c5-5a9541a58fbd');\n",
              "        const dataTable =\n",
              "          await google.colab.kernel.invokeFunction('convertToInteractive',\n",
              "                                                    [key], {});\n",
              "        if (!dataTable) return;\n",
              "\n",
              "        const docLinkHtml = 'Like what you see? Visit the ' +\n",
              "          '<a target=\"_blank\" href=https://colab.research.google.com/notebooks/data_table.ipynb>data table notebook</a>'\n",
              "          + ' to learn more about interactive tables.';\n",
              "        element.innerHTML = '';\n",
              "        dataTable['output_type'] = 'display_data';\n",
              "        await google.colab.output.renderOutput(dataTable, element);\n",
              "        const docLink = document.createElement('div');\n",
              "        docLink.innerHTML = docLinkHtml;\n",
              "        element.appendChild(docLink);\n",
              "      }\n",
              "    </script>\n",
              "  </div>\n",
              "\n",
              "\n",
              "<div id=\"df-10229b53-aba5-464b-824f-ae264e12c23d\">\n",
              "  <button class=\"colab-df-quickchart\" onclick=\"quickchart('df-10229b53-aba5-464b-824f-ae264e12c23d')\"\n",
              "            title=\"Suggest charts\"\n",
              "            style=\"display:none;\">\n",
              "\n",
              "<svg xmlns=\"http://www.w3.org/2000/svg\" height=\"24px\"viewBox=\"0 0 24 24\"\n",
              "     width=\"24px\">\n",
              "    <g>\n",
              "        <path d=\"M19 3H5c-1.1 0-2 .9-2 2v14c0 1.1.9 2 2 2h14c1.1 0 2-.9 2-2V5c0-1.1-.9-2-2-2zM9 17H7v-7h2v7zm4 0h-2V7h2v10zm4 0h-2v-4h2v4z\"/>\n",
              "    </g>\n",
              "</svg>\n",
              "  </button>\n",
              "\n",
              "<style>\n",
              "  .colab-df-quickchart {\n",
              "      --bg-color: #E8F0FE;\n",
              "      --fill-color: #1967D2;\n",
              "      --hover-bg-color: #E2EBFA;\n",
              "      --hover-fill-color: #174EA6;\n",
              "      --disabled-fill-color: #AAA;\n",
              "      --disabled-bg-color: #DDD;\n",
              "  }\n",
              "\n",
              "  [theme=dark] .colab-df-quickchart {\n",
              "      --bg-color: #3B4455;\n",
              "      --fill-color: #D2E3FC;\n",
              "      --hover-bg-color: #434B5C;\n",
              "      --hover-fill-color: #FFFFFF;\n",
              "      --disabled-bg-color: #3B4455;\n",
              "      --disabled-fill-color: #666;\n",
              "  }\n",
              "\n",
              "  .colab-df-quickchart {\n",
              "    background-color: var(--bg-color);\n",
              "    border: none;\n",
              "    border-radius: 50%;\n",
              "    cursor: pointer;\n",
              "    display: none;\n",
              "    fill: var(--fill-color);\n",
              "    height: 32px;\n",
              "    padding: 0;\n",
              "    width: 32px;\n",
              "  }\n",
              "\n",
              "  .colab-df-quickchart:hover {\n",
              "    background-color: var(--hover-bg-color);\n",
              "    box-shadow: 0 1px 2px rgba(60, 64, 67, 0.3), 0 1px 3px 1px rgba(60, 64, 67, 0.15);\n",
              "    fill: var(--button-hover-fill-color);\n",
              "  }\n",
              "\n",
              "  .colab-df-quickchart-complete:disabled,\n",
              "  .colab-df-quickchart-complete:disabled:hover {\n",
              "    background-color: var(--disabled-bg-color);\n",
              "    fill: var(--disabled-fill-color);\n",
              "    box-shadow: none;\n",
              "  }\n",
              "\n",
              "  .colab-df-spinner {\n",
              "    border: 2px solid var(--fill-color);\n",
              "    border-color: transparent;\n",
              "    border-bottom-color: var(--fill-color);\n",
              "    animation:\n",
              "      spin 1s steps(1) infinite;\n",
              "  }\n",
              "\n",
              "  @keyframes spin {\n",
              "    0% {\n",
              "      border-color: transparent;\n",
              "      border-bottom-color: var(--fill-color);\n",
              "      border-left-color: var(--fill-color);\n",
              "    }\n",
              "    20% {\n",
              "      border-color: transparent;\n",
              "      border-left-color: var(--fill-color);\n",
              "      border-top-color: var(--fill-color);\n",
              "    }\n",
              "    30% {\n",
              "      border-color: transparent;\n",
              "      border-left-color: var(--fill-color);\n",
              "      border-top-color: var(--fill-color);\n",
              "      border-right-color: var(--fill-color);\n",
              "    }\n",
              "    40% {\n",
              "      border-color: transparent;\n",
              "      border-right-color: var(--fill-color);\n",
              "      border-top-color: var(--fill-color);\n",
              "    }\n",
              "    60% {\n",
              "      border-color: transparent;\n",
              "      border-right-color: var(--fill-color);\n",
              "    }\n",
              "    80% {\n",
              "      border-color: transparent;\n",
              "      border-right-color: var(--fill-color);\n",
              "      border-bottom-color: var(--fill-color);\n",
              "    }\n",
              "    90% {\n",
              "      border-color: transparent;\n",
              "      border-bottom-color: var(--fill-color);\n",
              "    }\n",
              "  }\n",
              "</style>\n",
              "\n",
              "  <script>\n",
              "    async function quickchart(key) {\n",
              "      const quickchartButtonEl =\n",
              "        document.querySelector('#' + key + ' button');\n",
              "      quickchartButtonEl.disabled = true;  // To prevent multiple clicks.\n",
              "      quickchartButtonEl.classList.add('colab-df-spinner');\n",
              "      try {\n",
              "        const charts = await google.colab.kernel.invokeFunction(\n",
              "            'suggestCharts', [key], {});\n",
              "      } catch (error) {\n",
              "        console.error('Error during call to suggestCharts:', error);\n",
              "      }\n",
              "      quickchartButtonEl.classList.remove('colab-df-spinner');\n",
              "      quickchartButtonEl.classList.add('colab-df-quickchart-complete');\n",
              "    }\n",
              "    (() => {\n",
              "      let quickchartButtonEl =\n",
              "        document.querySelector('#df-10229b53-aba5-464b-824f-ae264e12c23d button');\n",
              "      quickchartButtonEl.style.display =\n",
              "        google.colab.kernel.accessAllowed ? 'block' : 'none';\n",
              "    })();\n",
              "  </script>\n",
              "</div>\n",
              "    </div>\n",
              "  </div>\n"
            ]
          },
          "metadata": {},
          "execution_count": 32
        }
      ]
    },
    {
      "cell_type": "code",
      "source": [
        "import matplotlib.pyplot as plt\n",
        "import seaborn as sns\n",
        "\n",
        "sns.set(style='darkgrid', font_scale=1.5)\n",
        "\n",
        "plt.rcParams[\"figure.figsize\"] = (12, 6)\n",
        "\n",
        "plt.plot(df_stats['Training Loss'], 'b-o', label=\"Training Loss\")\n",
        "plt.plot(df_stats['Valid. Loss'], 'g-o', label=\"Validation Loss\")\n",
        "\n",
        "plt.title(\"Training and Validation Loss Over Epochs\", fontsize=16)\n",
        "plt.xlabel(\"Epoch\", fontsize=14)\n",
        "plt.ylabel(\"Loss\", fontsize=14)\n",
        "\n",
        "plt.legend()\n",
        "plt.xticks(range(1, len(df_stats) + 1))\n",
        "\n",
        "plt.show()"
      ],
      "metadata": {
        "colab": {
          "base_uri": "https://localhost:8080/",
          "height": 584
        },
        "id": "QrvWrDRsyyXM",
        "outputId": "918b1896-8832-4f62-840b-92c8224da744"
      },
      "execution_count": null,
      "outputs": [
        {
          "output_type": "display_data",
          "data": {
            "text/plain": [
              "<Figure size 1200x600 with 1 Axes>"
            ],
            "image/png": "[encoded data removed]"
          },
          "metadata": {}
        }
      ]
    },
    {
      "cell_type": "code",
      "source": [
        "# Prediction on test set\n",
        "print(\"Predicting labels for {:,} test sentences...\".format(len(test_dataset)))\n",
        "\n",
        "# Put model in evaluation mode\n",
        "model.eval()\n",
        "\n",
        "predictions, true_labels = [], []\n",
        "\n",
        "for batch in test_dataloader:\n",
        "  # Add batch to GPU\n",
        "  batch = tuple(t.to(device) for t in batch)\n",
        "\n",
        "  # Unpack the inputs from our dataloader\n",
        "  b_input_ids, b_input_mask, b_labels = batch\n",
        "\n",
        "  with torch.no_grad():\n",
        "    # Forward pass, calculate logit predictions.\n",
        "    result = model(\n",
        "      b_input_ids,\n",
        "      token_type_ids=None,\n",
        "      attention_mask=b_input_mask,\n",
        "      return_dict=True\n",
        "    )\n",
        "\n",
        "  logits = result.logits\n",
        "\n",
        "  # Move logits and labels to CPU\n",
        "  logits = logits.detach().cpu().numpy()\n",
        "  label_ids = b_labels.to('cpu').numpy()\n",
        "\n",
        "  predictions.append(logits)\n",
        "  true_labels.append(label_ids)\n",
        "\n",
        "print('    DONE.')"
      ],
      "metadata": {
        "colab": {
          "base_uri": "https://localhost:8080/"
        },
        "id": "vG_Cjgp6zEVL",
        "outputId": "486ce0e4-58b2-44ef-c10f-44730ce099b1"
      },
      "execution_count": null,
      "outputs": [
        {
          "output_type": "stream",
          "name": "stdout",
          "text": [
            "Predicting labels for 578 test sentences...\n",
            "    DONE.\n"
          ]
        }
      ]
    },
    {
      "cell_type": "code",
      "source": [
        "# use MCC here because the classes are imbalanced\n",
        "print('Positive samples: %d of %d (%.2f%%)' % (df_copy.LABEL.sum(), len(df_copy.LABEL), (df_copy.LABEL.sum() / len(df_copy.LABEL) * 100.0)))"
      ],
      "metadata": {
        "colab": {
          "base_uri": "https://localhost:8080/"
        },
        "id": "1saB20Lg1Qwh",
        "outputId": "74e7e4a0-64c8-4e96-f9cd-5fa1959c20a5"
      },
      "execution_count": null,
      "outputs": [
        {
          "output_type": "stream",
          "name": "stdout",
          "text": [
            "Positive samples: 2934 of 5783 (50.73%)\n"
          ]
        }
      ]
    },
    {
      "cell_type": "code",
      "source": [
        "# MCC for imbalanced data\n",
        "from sklearn.metrics import matthews_corrcoef\n",
        "\n",
        "matthews_set = []\n",
        "print('Calculating Matthews Corr. Coef. for each batch...')\n",
        "\n",
        "for i in range(len(true_labels)):\n",
        "  pred_labels_i = np.argmax(predictions[i], axis=1).flatten()\n",
        "\n",
        "  matthews = matthews_corrcoef(true_labels[i], pred_labels_i)\n",
        "  matthews_set.append(matthews)"
      ],
      "metadata": {
        "colab": {
          "base_uri": "https://localhost:8080/"
        },
        "id": "Tv2JhDNc1daj",
        "outputId": "64f15416-f2be-47c7-ef7a-2850baa082ae"
      },
      "execution_count": null,
      "outputs": [
        {
          "output_type": "stream",
          "name": "stdout",
          "text": [
            "Calculating Matthews Corr. Coef. for each batch...\n"
          ]
        }
      ]
    },
    {
      "cell_type": "code",
      "source": [
        "# Create a barplot showing the MCC score for each batch of test samples.\n",
        "sns.set(style='whitegrid')\n",
        "sns.set(font_scale=1.2)\n",
        "\n",
        "plt.rcParams[\"figure.figsize\"] = (16, 8)\n",
        "\n",
        "ax = sns.barplot(x=list(range(len(matthews_set))), y=matthews_set, ci=None, palette='pastel')\n",
        "\n",
        "plt.title('MCC Score per Batch')\n",
        "plt.ylabel('MCC Score (-1 to +1)')\n",
        "plt.xlabel('Batch #')\n",
        "\n",
        "for i, p in enumerate(ax.patches):\n",
        "    height = p.get_height()\n",
        "    ax.annotate(f'{matthews_set[i]:.2f}', (p.get_x() + p.get_width() / 2., height),\n",
        "                ha='center', va='bottom', fontsize=10, color='black')\n",
        "\n",
        "plt.show()"
      ],
      "metadata": {
        "colab": {
          "base_uri": "https://localhost:8080/",
          "height": 821
        },
        "id": "EgIVSKQo18t0",
        "outputId": "1a36e590-217c-428e-8f5d-680fe66fd3e9"
      },
      "execution_count": null,
      "outputs": [
        {
          "output_type": "stream",
          "name": "stderr",
          "text": [
            "<ipython-input-65-6fa57746ed05>:7: FutureWarning: \n",
            "\n",
            "The `ci` parameter is deprecated. Use `errorbar=None` for the same effect.\n",
            "\n",
            "  ax = sns.barplot(x=list(range(len(matthews_set))), y=matthews_set, ci=None, palette='pastel')\n"
          ]
        },
        {
          "output_type": "display_data",
          "data": {
            "text/plain": [
              "<Figure size 1600x800 with 1 Axes>"
            ],
            "image/png": "[encoded data removed]"
          },
          "metadata": {}
        }
      ]
    },
    {
      "cell_type": "code",
      "source": [
        "# Combine the results across all batches.\n",
        "flat_predictions = np.concatenate(predictions, axis=0)\n",
        "flat_predictions = np.argmax(flat_predictions, axis=1).flatten()\n",
        "flat_true_labels = np.concatenate(true_labels, axis=0)\n",
        "\n",
        "mcc = matthews_corrcoef(flat_true_labels, flat_predictions)\n",
        "print('Total MCC: %.3f' % mcc)"
      ],
      "metadata": {
        "colab": {
          "base_uri": "https://localhost:8080/"
        },
        "id": "sh6FbWBs2Dfj",
        "outputId": "1ce4cb0d-e69c-4970-bb22-a1ca982438c3"
      },
      "execution_count": null,
      "outputs": [
        {
          "output_type": "stream",
          "name": "stdout",
          "text": [
            "Total MCC: 0.808\n"
          ]
        }
      ]
    },
    {
      "cell_type": "code",
      "source": [
        "from sklearn.metrics import accuracy_score, precision_score, recall_score, f1_score\n",
        "\n",
        "# Calculate metrics\n",
        "acc = accuracy_score(flat_true_labels, flat_predictions)\n",
        "precision = precision_score(flat_true_labels, flat_predictions)\n",
        "recall = recall_score(flat_true_labels, flat_predictions)\n",
        "f1 = f1_score(flat_true_labels, flat_predictions)\n",
        "\n",
        "# Display metrics\n",
        "print(f\"Overall Metrics:\")\n",
        "print(f\"Accuracy: {acc:.3f}\")\n",
        "print(f\"Precision: {precision:.3f}\")\n",
        "print(f\"Recall: {recall:.3f}\")\n",
        "print(f\"F1 Score: {f1:.3f}\")"
      ],
      "metadata": {
        "colab": {
          "base_uri": "https://localhost:8080/"
        },
        "id": "zVEWoTp32i_d",
        "outputId": "d7883033-dbde-48eb-e7fa-ba42b4d6338e"
      },
      "execution_count": null,
      "outputs": [
        {
          "output_type": "stream",
          "name": "stdout",
          "text": [
            "Overall Metrics:\n",
            "Accuracy: 0.903\n",
            "Precision: 0.931\n",
            "Recall: 0.873\n",
            "F1 Score: 0.901\n"
          ]
        }
      ]
    },
    {
      "cell_type": "code",
      "source": [
        "from sklearn.metrics import confusion_matrix\n",
        "from sklearn.utils.multiclass import unique_labels\n",
        "\n",
        "# Plot Confusion Matrix\n",
        "conf_matrix = confusion_matrix(flat_true_labels, flat_predictions)\n",
        "class_labels = unique_labels(flat_true_labels, flat_predictions)\n",
        "\n",
        "sns.set(font_scale=1.2)\n",
        "plt.figure(figsize=(8, 6))\n",
        "\n",
        "ax = sns.heatmap(conf_matrix, annot=True, fmt='d', cmap='Blues', xticklabels=class_labels, yticklabels=class_labels)\n",
        "\n",
        "ax.set_xlabel('Predicted Labels')\n",
        "ax.set_ylabel('True Labels')\n",
        "ax.set_title('Confusion Matrix')\n",
        "\n",
        "plt.show()"
      ],
      "metadata": {
        "colab": {
          "base_uri": "https://localhost:8080/",
          "height": 578
        },
        "id": "rQ7TgOfa39nE",
        "outputId": "371b7115-2acd-44e3-9477-a78ac77528de"
      },
      "execution_count": null,
      "outputs": [
        {
          "output_type": "display_data",
          "data": {
            "text/plain": [
              "<Figure size 800x600 with 2 Axes>"
            ],
            "image/png": "[encoded data removed]"
          },
          "metadata": {}
        }
      ]
    },
    {
      "cell_type": "code",
      "source": [
        "from sklearn.metrics import classification_report\n",
        "\n",
        "# Display Classification Report\n",
        "class_report = classification_report(flat_true_labels, flat_predictions)\n",
        "print('Classification Report:')\n",
        "print(class_report)"
      ],
      "metadata": {
        "colab": {
          "base_uri": "https://localhost:8080/"
        },
        "id": "hQ4k_XZT4aRr",
        "outputId": "2da0d224-e62a-4801-f3db-c7d834b4a5ad"
      },
      "execution_count": null,
      "outputs": [
        {
          "output_type": "stream",
          "name": "stdout",
          "text": [
            "Classification Report:\n",
            "              precision    recall  f1-score   support\n",
            "\n",
            "           0       0.88      0.93      0.91       286\n",
            "           1       0.93      0.87      0.90       292\n",
            "\n",
            "    accuracy                           0.90       578\n",
            "   macro avg       0.90      0.90      0.90       578\n",
            "weighted avg       0.90      0.90      0.90       578\n",
            "\n"
          ]
        }
      ]
    },
    {
      "cell_type": "code",
      "source": [],
      "metadata": {
        "id": "znFkDLM45Ecx"
      },
      "execution_count": null,
      "outputs": []
    }
  ]
}